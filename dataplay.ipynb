{
 "cells": [
  {
   "cell_type": "code",
   "execution_count": 65,
   "metadata": {
    "collapsed": true
   },
   "outputs": [],
   "source": [
    "%matplotlib inline"
   ]
  },
  {
   "cell_type": "code",
   "execution_count": 12,
   "metadata": {
    "collapsed": true
   },
   "outputs": [],
   "source": [
    "import time"
   ]
  },
  {
   "cell_type": "code",
   "execution_count": 44,
   "metadata": {
    "collapsed": true
   },
   "outputs": [],
   "source": [
    "import numpy as np"
   ]
  },
  {
   "cell_type": "code",
   "execution_count": 60,
   "metadata": {
    "collapsed": true
   },
   "outputs": [],
   "source": [
    "import pandas as pd\n",
    "import matplotlib as mpl\n",
    "import matplotlib.pyplot as plt\n",
    "import seaborn as sns"
   ]
  },
  {
   "cell_type": "code",
   "execution_count": 1,
   "metadata": {
    "collapsed": true
   },
   "outputs": [],
   "source": [
    "app_id, login, pw = open('config.vk', 'r').read().split('\\n')"
   ]
  },
  {
   "cell_type": "code",
   "execution_count": 40,
   "metadata": {},
   "outputs": [],
   "source": [
    "import vk\n",
    "session = vk.AuthSession(app_id, login, pw, scope='messages')\n",
    "vk_api = vk.API(session)"
   ]
  },
  {
   "cell_type": "code",
   "execution_count": 17,
   "metadata": {
    "collapsed": true
   },
   "outputs": [],
   "source": [
    "def get_dialogs(user_id):\n",
    "    dialogs = vk_api('messages.getDialogs', user_id=user_id)\n",
    "    return dialogs"
   ]
  },
  {
   "cell_type": "code",
   "execution_count": 42,
   "metadata": {
    "collapsed": true
   },
   "outputs": [],
   "source": [
    "hablador = '47450198'"
   ]
  },
  {
   "cell_type": "code",
   "execution_count": 38,
   "metadata": {
    "collapsed": true
   },
   "outputs": [],
   "source": [
    "def msgs():\n",
    "    friend_dialog = get_dialogs(hablador)\n",
    "    time.sleep(0.3)\n",
    "    dialog_len = friend_dialog[0]\n",
    "    friend_history = []\n",
    "    if dialog_len > 200:\n",
    "        resid = dialog_len\n",
    "        offset = 0\n",
    "        while resid > 0:\n",
    "            friend_history += vk_api('messages.getHistory', user_id=hablador, count=200, offset=offset)\n",
    "            time.sleep(0.3)\n",
    "            resid -= 200\n",
    "            offset += 200\n",
    "            if resid > 0:\n",
    "                print('--processing ', hablador, ': ', resid, ' of ', dialog_len, ' messages left')\n",
    "    return friend_history"
   ]
  },
  {
   "cell_type": "code",
   "execution_count": 43,
   "metadata": {},
   "outputs": [
    {
     "name": "stdout",
     "output_type": "stream",
     "text": [
      "--processing  47450198 :  9270  of  9470  messages left\n",
      "--processing  47450198 :  9070  of  9470  messages left\n",
      "--processing  47450198 :  8870  of  9470  messages left\n",
      "--processing  47450198 :  8670  of  9470  messages left\n",
      "--processing  47450198 :  8470  of  9470  messages left\n",
      "--processing  47450198 :  8270  of  9470  messages left\n",
      "--processing  47450198 :  8070  of  9470  messages left\n",
      "--processing  47450198 :  7870  of  9470  messages left\n",
      "--processing  47450198 :  7670  of  9470  messages left\n",
      "--processing  47450198 :  7470  of  9470  messages left\n",
      "--processing  47450198 :  7270  of  9470  messages left\n"
     ]
    },
    {
     "ename": "KeyboardInterrupt",
     "evalue": "",
     "output_type": "error",
     "traceback": [
      "\u001b[0;31m---------------------------------------------------------------------------\u001b[0m",
      "\u001b[0;31mKeyboardInterrupt\u001b[0m                         Traceback (most recent call last)",
      "\u001b[0;32m<ipython-input-43-20721781cae7>\u001b[0m in \u001b[0;36m<module>\u001b[0;34m()\u001b[0m\n\u001b[0;32m----> 1\u001b[0;31m \u001b[0mmsgs\u001b[0m\u001b[0;34m(\u001b[0m\u001b[0;34m)\u001b[0m\u001b[0;34m\u001b[0m\u001b[0m\n\u001b[0m",
      "\u001b[0;32m<ipython-input-38-a6614c5f7e5f>\u001b[0m in \u001b[0;36mmsgs\u001b[0;34m()\u001b[0m\n\u001b[1;32m      8\u001b[0m         \u001b[0moffset\u001b[0m \u001b[0;34m=\u001b[0m \u001b[0;36m0\u001b[0m\u001b[0;34m\u001b[0m\u001b[0m\n\u001b[1;32m      9\u001b[0m         \u001b[0;32mwhile\u001b[0m \u001b[0mresid\u001b[0m \u001b[0;34m>\u001b[0m \u001b[0;36m0\u001b[0m\u001b[0;34m:\u001b[0m\u001b[0;34m\u001b[0m\u001b[0m\n\u001b[0;32m---> 10\u001b[0;31m             \u001b[0mfriend_history\u001b[0m \u001b[0;34m+=\u001b[0m \u001b[0mvk_api\u001b[0m\u001b[0;34m(\u001b[0m\u001b[0;34m'messages.getHistory'\u001b[0m\u001b[0;34m,\u001b[0m \u001b[0muser_id\u001b[0m\u001b[0;34m=\u001b[0m\u001b[0mhablador\u001b[0m\u001b[0;34m,\u001b[0m \u001b[0mcount\u001b[0m\u001b[0;34m=\u001b[0m\u001b[0;36m200\u001b[0m\u001b[0;34m,\u001b[0m \u001b[0moffset\u001b[0m\u001b[0;34m=\u001b[0m\u001b[0moffset\u001b[0m\u001b[0;34m)\u001b[0m\u001b[0;34m\u001b[0m\u001b[0m\n\u001b[0m\u001b[1;32m     11\u001b[0m             \u001b[0mtime\u001b[0m\u001b[0;34m.\u001b[0m\u001b[0msleep\u001b[0m\u001b[0;34m(\u001b[0m\u001b[0;36m0.3\u001b[0m\u001b[0;34m)\u001b[0m\u001b[0;34m\u001b[0m\u001b[0m\n\u001b[1;32m     12\u001b[0m             \u001b[0mresid\u001b[0m \u001b[0;34m-=\u001b[0m \u001b[0;36m200\u001b[0m\u001b[0;34m\u001b[0m\u001b[0m\n",
      "\u001b[0;32m/usr/local/lib/python3.5/dist-packages/vk/api.py\u001b[0m in \u001b[0;36m__call__\u001b[0;34m(self, method_name, **method_kwargs)\u001b[0m\n\u001b[1;32m    156\u001b[0m \u001b[0;34m\u001b[0m\u001b[0m\n\u001b[1;32m    157\u001b[0m     \u001b[0;32mdef\u001b[0m \u001b[0m__call__\u001b[0m\u001b[0;34m(\u001b[0m\u001b[0mself\u001b[0m\u001b[0;34m,\u001b[0m \u001b[0mmethod_name\u001b[0m\u001b[0;34m,\u001b[0m \u001b[0;34m**\u001b[0m\u001b[0mmethod_kwargs\u001b[0m\u001b[0;34m)\u001b[0m\u001b[0;34m:\u001b[0m\u001b[0;34m\u001b[0m\u001b[0m\n\u001b[0;32m--> 158\u001b[0;31m         \u001b[0;32mreturn\u001b[0m \u001b[0mgetattr\u001b[0m\u001b[0;34m(\u001b[0m\u001b[0mself\u001b[0m\u001b[0;34m,\u001b[0m \u001b[0mmethod_name\u001b[0m\u001b[0;34m)\u001b[0m\u001b[0;34m(\u001b[0m\u001b[0;34m**\u001b[0m\u001b[0mmethod_kwargs\u001b[0m\u001b[0;34m)\u001b[0m\u001b[0;34m\u001b[0m\u001b[0m\n\u001b[0m\u001b[1;32m    159\u001b[0m \u001b[0;34m\u001b[0m\u001b[0m\n\u001b[1;32m    160\u001b[0m \u001b[0;34m\u001b[0m\u001b[0m\n",
      "\u001b[0;32m/usr/local/lib/python3.5/dist-packages/vk/api.py\u001b[0m in \u001b[0;36m__call__\u001b[0;34m(self, **method_args)\u001b[0m\n\u001b[1;32m    171\u001b[0m     \u001b[0;32mdef\u001b[0m \u001b[0m__call__\u001b[0m\u001b[0;34m(\u001b[0m\u001b[0mself\u001b[0m\u001b[0;34m,\u001b[0m \u001b[0;34m**\u001b[0m\u001b[0mmethod_args\u001b[0m\u001b[0;34m)\u001b[0m\u001b[0;34m:\u001b[0m\u001b[0;34m\u001b[0m\u001b[0m\n\u001b[1;32m    172\u001b[0m         \u001b[0mself\u001b[0m\u001b[0;34m.\u001b[0m\u001b[0m_method_args\u001b[0m \u001b[0;34m=\u001b[0m \u001b[0mmethod_args\u001b[0m\u001b[0;34m\u001b[0m\u001b[0m\n\u001b[0;32m--> 173\u001b[0;31m         \u001b[0;32mreturn\u001b[0m \u001b[0mself\u001b[0m\u001b[0;34m.\u001b[0m\u001b[0m_api\u001b[0m\u001b[0;34m.\u001b[0m\u001b[0m_session\u001b[0m\u001b[0;34m.\u001b[0m\u001b[0mmake_request\u001b[0m\u001b[0;34m(\u001b[0m\u001b[0mself\u001b[0m\u001b[0;34m)\u001b[0m\u001b[0;34m\u001b[0m\u001b[0m\n\u001b[0m\u001b[1;32m    174\u001b[0m \u001b[0;34m\u001b[0m\u001b[0m\n\u001b[1;32m    175\u001b[0m \u001b[0;34m\u001b[0m\u001b[0m\n",
      "\u001b[0;32m/usr/local/lib/python3.5/dist-packages/vk/api.py\u001b[0m in \u001b[0;36mmake_request\u001b[0;34m(self, method_request, captcha_response)\u001b[0m\n\u001b[1;32m     71\u001b[0m         \u001b[0;31m# there are may be 2 dicts in one JSON\u001b[0m\u001b[0;34m\u001b[0m\u001b[0;34m\u001b[0m\u001b[0m\n\u001b[1;32m     72\u001b[0m         \u001b[0;31m# for example: \"{'error': ...}{'response': ...}\"\u001b[0m\u001b[0;34m\u001b[0m\u001b[0;34m\u001b[0m\u001b[0m\n\u001b[0;32m---> 73\u001b[0;31m         \u001b[0;32mfor\u001b[0m \u001b[0mresponse_or_error\u001b[0m \u001b[0;32min\u001b[0m \u001b[0mjson_iter_parse\u001b[0m\u001b[0;34m(\u001b[0m\u001b[0mresponse\u001b[0m\u001b[0;34m.\u001b[0m\u001b[0mtext\u001b[0m\u001b[0;34m)\u001b[0m\u001b[0;34m:\u001b[0m\u001b[0;34m\u001b[0m\u001b[0m\n\u001b[0m\u001b[1;32m     74\u001b[0m             \u001b[0;32mif\u001b[0m \u001b[0;34m'response'\u001b[0m \u001b[0;32min\u001b[0m \u001b[0mresponse_or_error\u001b[0m\u001b[0;34m:\u001b[0m\u001b[0;34m\u001b[0m\u001b[0m\n\u001b[1;32m     75\u001b[0m                 \u001b[0;31m# todo Can we have error and response simultaneously\u001b[0m\u001b[0;34m\u001b[0m\u001b[0;34m\u001b[0m\u001b[0m\n",
      "\u001b[0;32m/usr/local/lib/python3.5/dist-packages/vk/utils.py\u001b[0m in \u001b[0;36mjson_iter_parse\u001b[0;34m(response_text)\u001b[0m\n\u001b[1;32m     46\u001b[0m     \u001b[0midx\u001b[0m \u001b[0;34m=\u001b[0m \u001b[0;36m0\u001b[0m\u001b[0;34m\u001b[0m\u001b[0m\n\u001b[1;32m     47\u001b[0m     \u001b[0;32mwhile\u001b[0m \u001b[0midx\u001b[0m \u001b[0;34m<\u001b[0m \u001b[0mlen\u001b[0m\u001b[0;34m(\u001b[0m\u001b[0mresponse_text\u001b[0m\u001b[0;34m)\u001b[0m\u001b[0;34m:\u001b[0m\u001b[0;34m\u001b[0m\u001b[0m\n\u001b[0;32m---> 48\u001b[0;31m         \u001b[0mobj\u001b[0m\u001b[0;34m,\u001b[0m \u001b[0midx\u001b[0m \u001b[0;34m=\u001b[0m \u001b[0mdecoder\u001b[0m\u001b[0;34m.\u001b[0m\u001b[0mraw_decode\u001b[0m\u001b[0;34m(\u001b[0m\u001b[0mresponse_text\u001b[0m\u001b[0;34m,\u001b[0m \u001b[0midx\u001b[0m\u001b[0;34m)\u001b[0m\u001b[0;34m\u001b[0m\u001b[0m\n\u001b[0m\u001b[1;32m     49\u001b[0m         \u001b[0;32myield\u001b[0m \u001b[0mobj\u001b[0m\u001b[0;34m\u001b[0m\u001b[0m\n\u001b[1;32m     50\u001b[0m \u001b[0;34m\u001b[0m\u001b[0m\n",
      "\u001b[0;32m/usr/lib/python3.5/json/decoder.py\u001b[0m in \u001b[0;36mraw_decode\u001b[0;34m(self, s, idx)\u001b[0m\n\u001b[1;32m    353\u001b[0m         \"\"\"\n\u001b[1;32m    354\u001b[0m         \u001b[0;32mtry\u001b[0m\u001b[0;34m:\u001b[0m\u001b[0;34m\u001b[0m\u001b[0m\n\u001b[0;32m--> 355\u001b[0;31m             \u001b[0mobj\u001b[0m\u001b[0;34m,\u001b[0m \u001b[0mend\u001b[0m \u001b[0;34m=\u001b[0m \u001b[0mself\u001b[0m\u001b[0;34m.\u001b[0m\u001b[0mscan_once\u001b[0m\u001b[0;34m(\u001b[0m\u001b[0ms\u001b[0m\u001b[0;34m,\u001b[0m \u001b[0midx\u001b[0m\u001b[0;34m)\u001b[0m\u001b[0;34m\u001b[0m\u001b[0m\n\u001b[0m\u001b[1;32m    356\u001b[0m         \u001b[0;32mexcept\u001b[0m \u001b[0mStopIteration\u001b[0m \u001b[0;32mas\u001b[0m \u001b[0merr\u001b[0m\u001b[0;34m:\u001b[0m\u001b[0;34m\u001b[0m\u001b[0m\n\u001b[1;32m    357\u001b[0m             \u001b[0;32mraise\u001b[0m \u001b[0mJSONDecodeError\u001b[0m\u001b[0;34m(\u001b[0m\u001b[0;34m\"Expecting value\"\u001b[0m\u001b[0;34m,\u001b[0m \u001b[0ms\u001b[0m\u001b[0;34m,\u001b[0m \u001b[0merr\u001b[0m\u001b[0;34m.\u001b[0m\u001b[0mvalue\u001b[0m\u001b[0;34m)\u001b[0m \u001b[0;32mfrom\u001b[0m \u001b[0;32mNone\u001b[0m\u001b[0;34m\u001b[0m\u001b[0m\n",
      "\u001b[0;31mKeyboardInterrupt\u001b[0m: "
     ]
    }
   ],
   "source": [
    "msgs()"
   ]
  },
  {
   "cell_type": "code",
   "execution_count": 37,
   "metadata": {
    "collapsed": true
   },
   "outputs": [],
   "source": [
    "hablador = '141632104'"
   ]
  },
  {
   "cell_type": "code",
   "execution_count": 32,
   "metadata": {},
   "outputs": [
    {
     "data": {
      "text/plain": [
       "33690"
      ]
     },
     "execution_count": 32,
     "metadata": {},
     "output_type": "execute_result"
    }
   ],
   "source": [
    "30525+3165"
   ]
  },
  {
   "cell_type": "code",
   "execution_count": 172,
   "metadata": {
    "collapsed": true
   },
   "outputs": [],
   "source": [
    "def medmsg():\n",
    "    # friends = vk_api('friends.get')\n",
    "    arr = []\n",
    "    for friend in people:\n",
    "        time.sleep(0.3)\n",
    "        arr.append(get_dialogs(friend))\n",
    "    return arr"
   ]
  },
  {
   "cell_type": "code",
   "execution_count": 117,
   "metadata": {},
   "outputs": [
    {
     "name": "stdout",
     "output_type": "stream",
     "text": [
      "[0]\n",
      "[29, {'date': 1411505064, 'out': 1, 'mid': 100877, 'body': 'Спасибо большое!', 'uid': 47559, 'read_state': 1, 'title': ''}]\n",
      "[0]\n",
      "[2, {'date': 1421326012, 'out': 1, 'mid': 119124, 'body': 'Спасибо большое!', 'uid': 130314, 'read_state': 1, 'title': ''}]\n",
      "[0]\n",
      "[254, {'date': 1495391797, 'out': 1, 'mid': 249378, 'body': 'я посмотрела на эту колонку и поняла, что хз', 'uid': 309319, 'read_state': 1, 'title': ' ... '}]\n",
      "[14206, {'date': 1497438515, 'out': 0, 'mid': 255803, 'body': 'Спс', 'uid': 478427, 'read_state': 1, 'title': ' ... '}]\n",
      "[9, {'date': 1369490084, 'out': 0, 'mid': 55314, 'body': 'и то верно)', 'uid': 561421, 'read_state': 1, 'title': ''}]\n",
      "[0]\n",
      "[18, {'date': 1406747824, 'out': 1, 'mid': 99043, 'body': 'всегда пожалуйста', 'uid': 983485, 'read_state': 1, 'title': ''}]\n",
      "[2605, {'date': 1492414539, 'out': 0, 'mid': 242646, 'body': 'Да, давай, отлично!', 'uid': 1041351, 'read_state': 1, 'title': ' ... '}]\n",
      "[2, {'date': 1474633192, 'out': 1, 'mid': 207061, 'body': 'Привет, нет ещё.', 'uid': 1331162, 'read_state': 1, 'title': ''}]\n",
      "[0]\n",
      "[0]\n",
      "[2, {'date': 1475916112, 'out': 1, 'mid': 209502, 'body': 'Привет)<br>Нет, я сегодня не могу, к сожалению.', 'uid': 2237557, 'read_state': 1, 'title': ''}]\n",
      "[170, {'date': 1398812068, 'out': 1, 'mid': 93275, 'body': 'я знаю)', 'uid': 2334755, 'read_state': 1, 'title': ''}]\n",
      "[9, {'date': 1487175260, 'out': 0, 'mid': 227597, 'body': 'да ничего, спасибо). Поищу еще людей в NLP чатике', 'uid': 2384949, 'read_state': 1, 'title': ''}]\n",
      "[0]\n",
      "[22, {'date': 1459290500, 'out': 1, 'mid': 181537, 'body': 'а, ну ладно', 'uid': 3197752, 'read_state': 1, 'title': ''}]\n",
      "[14, {'date': 1411611676, 'out': 0, 'mid': 101040, 'body': 'Ого! Звучит)))', 'uid': 3605548, 'read_state': 1, 'title': ''}]\n",
      "[30, {'date': 1260035262, 'out': 0, 'mid': 3498, 'body': '=)))', 'uid': 3859254, 'read_state': 1, 'title': 'Re(17):  ...'}]\n",
      "[99, {'date': 1347371272, 'out': 0, 'mid': 34194, 'body': 'Да) у меня семинар недавно проходил в аудитории, и сзади лежали работы абитуриентов, и по иронии судьбы я сел сзади и прямо за мной была папка с твоим именем!!)) я на платном) честно, я не могу сказать, что сильно интересно) куда летишь-то?) на кого учиться?)', 'uid': 3913419, 'read_state': 1, 'title': ''}]\n",
      "[2, {'date': 1222280256, 'out': 0, 'mid': 1125, 'body': 'да не за что', 'uid': 4476347, 'read_state': 1, 'title': 'Re:  ...'}]\n",
      "[5, {'date': 1443218668, 'out': 0, 'mid': 149679, 'body': 'Отлично!', 'uid': 4613122, 'read_state': 1, 'title': ''}]\n",
      "[0]\n",
      "[29, {'date': 1229603482, 'out': 0, 'mid': 1464, 'body': 'да но вот, чето заболел', 'uid': 4871514, 'read_state': 1, 'title': 'Re(3):  ...'}]\n",
      "[0]\n",
      "[28, {'date': 1422281468, 'out': 0, 'mid': 120671, 'body': 'Я уже не помню, хахаха', 'uid': 5017376, 'read_state': 1, 'title': ''}]\n",
      "[8, {'date': 1417784548, 'out': 0, 'mid': 111700, 'body': 'Спасибо) да все-хорошо, сессию сдаем) а ты?', 'uid': 5274907, 'read_state': 1, 'title': ''}]\n",
      "[108, {'date': 1482854166, 'out': 0, 'mid': 221145, 'body': 'Тебе спасибо (:', 'uid': 5843734, 'read_state': 1, 'title': ''}]\n",
      "[11, {'date': 1379256084, 'out': 1, 'mid': 68597, 'body': 'У меня весь день висит.', 'uid': 5905385, 'read_state': 1, 'title': ''}]\n",
      "[0]\n",
      "[0]\n",
      "[2157, {'date': 1482872524, 'out': 1, 'mid': 221198, 'body': 'а, понятно', 'uid': 6171761, 'read_state': 1, 'title': ''}]\n",
      "[0]\n",
      "[70, {'date': 1448624024, 'out': 1, 'mid': 158394, 'body': 'а флешка?', 'uid': 6636231, 'read_state': 1, 'title': ''}]\n",
      "[192, {'date': 1474751898, 'out': 1, 'mid': 207295, 'body': 'ага, из-за неё<br>он хочет человека на полный день, а мы хотим доучиться нормально<br><br>я щас тебе перешлю его сообщение в телеграме', 'uid': 6809578, 'read_state': 1, 'title': ''}]\n",
      "[51, {'date': 1494076064, 'out': 0, 'mid': 245914, 'body': 'может это борех шутит так )))))', 'uid': 7097127, 'read_state': 1, 'title': ' ... '}]\n",
      "[1, {'date': 1302543444, 'out': 0, 'mid': 12307, 'body': 'Саша,  привет! Ты мне можешь помочь с соц. опросом?<br>Все анонимно и тема достаточно интересная :)<br>1. Откуда вы получаете информацию?<br>2. Какой источник информации самый надежный?<br>3. Как формируется ваше мнение на происходящие в стране и мире события:<br>-после просмотра ТВ<br>-после прочтения газет и журналов<br>-после посещения интернет-сайтов<br>-ваш вариант( указать!)', 'uid': 7404742, 'read_state': 1, 'title': ''}]\n",
      "[65, {'date': 1411367324, 'out': 1, 'mid': 100667, 'body': 'а<br>ну и ладно<br>тогда не буду смотреть', 'uid': 7608866, 'read_state': 1, 'title': ''}]\n",
      "[10472, {'date': 1493332306, 'out': 0, 'mid': 245099, 'body': 'Привет. Не думаю что получу от тебя какой-то  ответ,  скорее всего тебе давно пофиг на это, но так неправильно. Для меня, конечно. Заранее прости за беспокойство.<br>Если сможешь когда-нибудь, прости меня за то, как я вела себя с тобой будучи твоим \"другом\". У меня нет никаких весомых оправданий, я вела себя мерзко и даже низко по отношению к тебе. А ты была отличным другом.  Я прошу у тебя прощения. И делаю это для себя, да,в первую очередь. Я иногда все ещё вспоминаю об этом и это какая-то дичь для меня,то, как я тогда вела себя и как все было.  Вот.   Может тебе совсем пофиг, может закроется какой-нибудь гештальт,  я не знаю. В любом случае, надеюсь  хуже это сообщение никому не сделает. Я не предлагаю мириться или типа того, просто хотела сказать что я понимаю и наконец блин могу признать насколько я была не права тогда с тобой. Вот как-то  так. Доброй ночи.', 'uid': 7640927, 'read_state': 1, 'title': ' ... '}]\n",
      "[0]\n",
      "[0]\n",
      "[0]\n",
      "[1257, {'date': 1496066661, 'out': 1, 'mid': 251681, 'body': 'теперь поняла', 'uid': 9093960, 'read_state': 1, 'title': ' ... '}]\n",
      "[3, {'date': 1365183152, 'out': 1, 'mid': 52420, 'body': 'ну да<br>всех классных актеров', 'uid': 9270771, 'read_state': 1, 'title': ''}]\n",
      "[0]\n",
      "[0]\n",
      "[3862, {'date': 1466024010, 'out': 0, 'mid': 190435, 'body': 'Посмотрим', 'uid': 10366310, 'read_state': 1, 'title': ''}]\n",
      "[53, {'date': 1482275398, 'out': 1, 'mid': 219278, 'body': 'я тоже думала, что приколько', 'uid': 10548787, 'read_state': 1, 'title': ''}]\n",
      "[0]\n",
      "[0]\n",
      "[77, {'date': 1487096276, 'out': 0, 'mid': 227443, 'body': 'Здорово', 'uid': 10950877, 'read_state': 1, 'title': ''}]\n",
      "[12, {'date': 1316711672, 'out': 1, 'mid': 18936, 'body': 'на экономику пойду', 'uid': 11216700, 'read_state': 1, 'title': ''}]\n",
      "[234, {'date': 1485606726, 'out': 0, 'mid': 225057, 'body': '', 'uid': 11330009, 'read_state': 1, 'fwd_messages': [{'date': 1485596168, 'uid': 792255, 'attachments': [{'type': 'photo', 'photo': {'text': '', 'width': 2560, 'src_small': 'https://pp.userapi.com/c639918/v639918255/30b3/-5pxiYZJqGM.jpg', 'pid': 456239309, 'src_xxxbig': 'https://pp.userapi.com/c639918/v639918255/30b8/Uj8U6OrZd0k.jpg', 'src_big': 'https://pp.userapi.com/c639918/v639918255/30b5/AHU9IBflOEY.jpg', 'src': 'https://pp.userapi.com/c639918/v639918255/30b4/EdNILJ9lNck.jpg', 'aid': -3, 'src_xxbig': 'https://pp.userapi.com/c639918/v639918255/30b7/7kzit-sGik8.jpg', 'owner_id': 792255, 'height': 1707, 'src_xbig': 'https://pp.userapi.com/c639918/v639918255/30b6/txhNH34Iwwk.jpg', 'access_key': '57a065637c4bba4ea9', 'created': 1485596114}}, {'type': 'photo', 'photo': {'text': '', 'width': 2560, 'src_small': 'https://pp.userapi.com/c639918/v639918255/30bd/en2d_mvXPV4.jpg', 'pid': 456239310, 'src_xxxbig': 'https://pp.userapi.com/c639918/v639918255/30c2/50F-AZ0kOgU.jpg', 'src_big': 'https://pp.userapi.com/c639918/v639918255/30bf/ZM7YRGj1rWk.jpg', 'src': 'https://pp.userapi.com/c639918/v639918255/30be/GaiEJCwd01c.jpg', 'aid': -3, 'src_xxbig': 'https://pp.userapi.com/c639918/v639918255/30c1/st2mY13sBh4.jpg', 'owner_id': 792255, 'height': 1707, 'src_xbig': 'https://pp.userapi.com/c639918/v639918255/30c0/7QnJFx2sVhs.jpg', 'access_key': '9da64a62d69da7ed21', 'created': 1485596127}}], 'attachment': {'type': 'photo', 'photo': {'text': '', 'width': 2560, 'src_small': 'https://pp.userapi.com/c639918/v639918255/30b3/-5pxiYZJqGM.jpg', 'pid': 456239309, 'src_xxxbig': 'https://pp.userapi.com/c639918/v639918255/30b8/Uj8U6OrZd0k.jpg', 'src_big': 'https://pp.userapi.com/c639918/v639918255/30b5/AHU9IBflOEY.jpg', 'src': 'https://pp.userapi.com/c639918/v639918255/30b4/EdNILJ9lNck.jpg', 'aid': -3, 'src_xxbig': 'https://pp.userapi.com/c639918/v639918255/30b7/7kzit-sGik8.jpg', 'owner_id': 792255, 'height': 1707, 'src_xbig': 'https://pp.userapi.com/c639918/v639918255/30b6/txhNH34Iwwk.jpg', 'access_key': '57a065637c4bba4ea9', 'created': 1485596114}}, 'body': ''}], 'title': ''}]\n",
      "[13, {'date': 1423512543, 'out': 0, 'mid': 123011, 'body': 'ну все тогда на лекции что нибудь сделаем, договорились)', 'uid': 11468194, 'read_state': 1, 'title': ''}]\n",
      "[0]\n",
      "[15, {'date': 1490128244, 'out': 0, 'mid': 235146, 'body': 'ок', 'uid': 12344849, 'read_state': 1, 'title': ' ... '}]\n",
      "[5, {'date': 1314377428, 'out': 0, 'mid': 17956, 'body': 'буду благодарна', 'uid': 12444912, 'read_state': 1, 'title': 'Re:  ...'}]\n",
      "[3182, {'date': 1435683580, 'out': 1, 'mid': 144278, 'body': 'круто)', 'uid': 12550844, 'read_state': 1, 'title': ''}]\n",
      "[0]\n",
      "[0]\n",
      "[12136, {'date': 1497596035, 'out': 1, 'mid': 256016, 'body': 'И швец, и жнец, и бизнес-консультант.', 'uid': 12886487, 'read_state': 1, 'title': ' ... '}]\n",
      "[13, {'date': 1464441188, 'out': 0, 'mid': 187060, 'body': 'Предложили*', 'uid': 13335597, 'read_state': 1, 'title': ''}]\n",
      "[6, {'date': 1465230950, 'out': 0, 'mid': 188971, 'body': 'Это твой номер карточки, да?<br>И на него МА положил деньги ?', 'uid': 13358898, 'read_state': 1, 'title': ''}]\n",
      "[37, {'date': 1486629588, 'out': 0, 'mid': 226555, 'body': 'Ну да)', 'uid': 13787907, 'read_state': 1, 'title': ''}]\n",
      "[46, {'date': 1248688569, 'out': 1, 'mid': 2850, 'body': 'Понятно...', 'uid': 13933270, 'read_state': 1, 'title': 'Re(6):  ...'}]\n",
      "[413, {'date': 1480927060, 'out': 0, 'mid': 216854, 'body': 'Aaaaaaa!', 'uid': 14659482, 'read_state': 1, 'title': ''}]\n",
      "[630, {'date': 1411558056, 'out': 1, 'mid': 100908, 'body': 'Спасибо большое!', 'uid': 14665163, 'read_state': 1, 'title': ''}]\n",
      "[13785, {'date': 1443119120, 'out': 1, 'mid': 149536, 'body': 'Спасибо!', 'uid': 15216946, 'read_state': 1, 'title': ''}]\n",
      "[0]\n",
      "[0]\n",
      "[0]\n",
      "[5899, {'date': 1458944565, 'out': 1, 'mid': 180691, 'body': 'алсо перестань, пожалуйста, игнорировать мои сообщения, и начни мне отвечать<br>от этого ничего плохого не будет, кроме хорошего', 'uid': 16595501, 'read_state': 1, 'title': ''}]\n",
      "[3, {'date': 1411572188, 'out': 1, 'mid': 100915, 'body': 'Спасибо больше!', 'uid': 16650118, 'read_state': 1, 'title': ''}]\n",
      "[35, {'date': 1397142804, 'out': 0, 'mid': 90376, 'body': 'Ваша буква В :)', 'uid': 16815400, 'read_state': 1, 'title': ''}]\n",
      "[12, {'date': 1451022668, 'out': 1, 'mid': 166826, 'body': 'Здравствуйте! Боюсь, у меня никак не получится прийти, извините.', 'uid': 17283336, 'read_state': 1, 'title': ''}]\n",
      "[9150, {'date': 1497645225, 'out': 1, 'mid': 256111, 'body': 'эх', 'uid': 17436555, 'read_state': 1, 'title': ' ... '}]\n",
      "[5, {'date': 1229963250, 'out': 0, 'mid': 1474, 'body': 'нормально живу))', 'uid': 18015183, 'read_state': 1, 'title': 'Re(4):  ...'}]\n",
      "[5, {'date': 1494942354, 'out': 0, 'mid': 248313, 'body': 'Ок, все понятно) Ещё раз спасибо! <br>Если будут ещё вопросы - обращусь)', 'uid': 18222894, 'read_state': 1, 'title': ' ... '}]\n",
      "[55, {'date': 1492117244, 'out': 1, 'mid': 241550, 'body': 'окей)', 'uid': 18530955, 'read_state': 1, 'title': ' ... '}]\n",
      "[1, {'date': 1408354780, 'out': 1, 'mid': 99384, 'body': 'http://www.hse.ru/org/hse/dop/lang/', 'uid': 18751527, 'read_state': 1, 'title': ''}]\n",
      "[3790, {'date': 1357246108, 'out': 0, 'mid': 43514, 'body': ':д', 'uid': 19181455, 'read_state': 1, 'title': ''}]\n",
      "[0]\n",
      "[0]\n",
      "[83, {'date': 1411579849, 'out': 1, 'mid': 100975, 'body': 'как везде', 'uid': 20061563, 'read_state': 1, 'title': ''}]\n",
      "[32, {'date': 1400179384, 'out': 0, 'mid': 94409, 'body': '106', 'uid': 20113344, 'read_state': 1, 'title': ''}]\n",
      "[575, {'date': 1496414753, 'out': 0, 'mid': 253185, 'body': 'Ненене<br>Мне уже поздняк метаться)<br>Я просто вряд ли смогу ассистировать в следующем году (там какая-то фигня что 1 модуль формально нельзя, предмет читается 1-2 модули и это больше гемроа, чем толку), а единственная хорошая кандидатура на предложенный предмет ща в академе', 'uid': 20529001, 'read_state': 1, 'title': ' ... '}]\n",
      "[39, {'date': 1260034960, 'out': 1, 'mid': 3490, 'body': 'Спасибо=)', 'uid': 21039806, 'read_state': 1, 'title': 'Re(12):  ...'}]\n",
      "[127, {'date': 1432586404, 'out': 0, 'mid': 140075, 'body': 'да не за что)', 'uid': 21811274, 'read_state': 1, 'title': ''}]\n",
      "[117, {'date': 1476961290, 'out': 0, 'mid': 211310, 'body': 'выходит, так', 'uid': 22424227, 'read_state': 1, 'title': ''}]\n",
      "[0]\n",
      "[38, {'date': 1424902856, 'out': 0, 'mid': 126782, 'body': 'Понял, спасибо :)', 'uid': 22893858, 'read_state': 1, 'title': ''}]\n",
      "[71, {'date': 1490824819, 'out': 1, 'mid': 237665, 'body': 'поняла, спасибо', 'uid': 23540705, 'read_state': 1, 'title': ' ... '}]\n",
      "[0]\n",
      "[9, {'date': 1449663100, 'out': 0, 'mid': 160809, 'body': 'острое отравле курицеей гриль!(', 'uid': 26319448, 'read_state': 1, 'title': ''}]\n",
      "[408, {'date': 1484584438, 'out': 0, 'mid': 223899, 'body': 'ок', 'uid': 26437207, 'read_state': 1, 'title': ''}]\n",
      "[14, {'date': 1447330776, 'out': 1, 'mid': 155897, 'body': 'а, супер', 'uid': 26485553, 'read_state': 1, 'title': ''}]\n",
      "[1, {'date': 1362596180, 'attachments': [{'type': 'doc', 'doc': {'date': 1362596181, 'did': 161757405, 'size': 14848, 'owner_id': 11437854, 'url': 'https://vk.com/doc11437854_161757405?hash=d51a18a7a0f65b9854&dl=GEYTIMZXHA2TI:1497804258:7f9da51118cc9a74a6&api=1&no_preview=1', 'access_key': '89479847d68faf26aa', 'title': 'Балет, Рзянина, отредактировано.doc', 'ext': 'doc'}}], 'out': 1, 'mid': 49596, 'attachment': {'type': 'doc', 'doc': {'date': 1362596181, 'did': 161757405, 'size': 14848, 'owner_id': 11437854, 'url': 'https://vk.com/doc11437854_161757405?hash=d51a18a7a0f65b9854&dl=GEYTIMZXHA2TI:1497804258:7f9da51118cc9a74a6&api=1&no_preview=1', 'access_key': '89479847d68faf26aa', 'title': 'Балет, Рзянина, отредактировано.doc', 'ext': 'doc'}}, 'body': '', 'uid': 27095832, 'read_state': 1, 'title': ''}]\n",
      "[153, {'date': 1488133357, 'out': 1, 'mid': 229977, 'body': 'хз, сорри', 'uid': 28751038, 'read_state': 1, 'title': ' ... '}]\n",
      "[9, {'date': 1426527554, 'out': 0, 'mid': 129569, 'body': 'Эх', 'uid': 29239119, 'read_state': 1, 'title': ''}]\n",
      "[17, {'date': 1380049435, 'out': 0, 'mid': 71509, 'body': 'С днем рождения.', 'uid': 29586615, 'read_state': 1, 'title': ''}]\n",
      "[1538, {'date': 1496181581, 'out': 0, 'mid': 252636, 'body': 'вау, круто', 'uid': 30272789, 'read_state': 1, 'title': ' ... '}]\n",
      "[3, {'date': 1312030976, 'out': 0, 'mid': 16462, 'body': 'Я отлично, сейчас отдыхаю на даче. А ты на ЛЭШ, да?<br>Не тебе... Странно...', 'uid': 30477692, 'read_state': 1, 'title': '...'}]\n",
      "[32, {'date': 1474708252, 'emoji': 1, 'out': 0, 'mid': 207203, 'body': '😊', 'uid': 30864434, 'read_state': 1, 'title': ''}]\n",
      "[530, {'date': 1456817248, 'out': 1, 'mid': 177977, 'body': 'йеп', 'uid': 31120815, 'read_state': 1, 'title': ''}]\n",
      "[24, {'date': 1488360863, 'emoji': 1, 'out': 0, 'mid': 230739, 'body': '👌', 'uid': 31401736, 'read_state': 1, 'title': ' ... '}]\n",
      "[1, {'date': 1455782207, 'out': 0, 'mid': 175727, 'body': 'В год 75-летия Восьмая музыкальная проводит вечер встречи своих выпускников!<br>В ближайшее воскресенье, 21 февраля ждем всех, окончивших школу за последние 75 лет, в актовом зале школы (по адресу ул. Гарибальди д.8 к.1) к 15 часам!<br><br>В программе встречи: хор из 200 выпускников, признания в любви, концерт выпускников в пяти отделениях и, конечно же - встречи с любимыми педагогами!<br>Всех пришедших обещаем напоить чаем.<br>Пироги, печенье и конфеты - приносить с собой! <br>До встречи через неделю!', 'uid': 34123973, 'read_state': 1, 'title': ''}]\n",
      "[0]\n",
      "[6601, {'date': 1496786983, 'out': 0, 'mid': 254165, 'body': '', 'uid': 34904173, 'read_state': 1, 'fwd_messages': [{'date': 1496786604, 'uid': 23540705, 'body': 'Хоть вообще не указывай её при подаче работы, но ведь нехорошо же...'}, {'date': 1496786662, 'uid': 23540705, 'body': 'Короче, бесконечно можно обсуждать, как бесит Ляшевская :)'}, {'date': 1496786671, 'uid': 34904173, 'body': 'ну да, вот этого рода вещи я тоже тут и там замечаю!'}, {'date': 1496786676, 'uid': 34904173, 'body': 'например, ща'}, {'date': 1496786704, 'uid': 34904173, 'fwd_messages': [{'date': 1495547903, 'uid': 34904173, 'body': 'алсо, да, ляш знает толк в нагрузить и \"я ничего не знаю, это Ваши проблемы, но всё должно было быть готово ещё вчера\". ни за что добровольно не сунусь под её руководство.'}, {'date': 1495547948, 'uid': 31401736, 'body': 'да, плюсую'}, {'date': 1495547963, 'uid': 31401736, 'body': 'потому что она руководит этим Mehweb UD'}, {'date': 1495547968, 'uid': 31401736, 'body': 'и нихуя не знает и не умеет'}, {'date': 1495547975, 'uid': 34904173, 'body': 'оооо лол'}, {'date': 1495547984, 'uid': 34904173, 'body': 'но наверняка хочет публикаций'}, {'date': 1495548021, 'uid': 31401736, 'body': 'конечно'}, {'date': 1495548057, 'uid': 31401736, 'body': 'она просила текст статьи к 10, чтоб податься на конфу до 19, я прислала, он только в 17.00 19-го добавила каменты'}, {'date': 1495548064, 'uid': 31401736, 'body': 'я была так рада, пиздец'}], 'body': ''}, {'date': 1496786920, 'uid': 23540705, 'body': 'А ещё я тут смотрела, как она 2курснице поручала сделать ей презентацию на Диалог, и думала \"лооол, это даже не разметочное рабство\"'}, {'date': 1496786946, 'uid': 23540705, 'body': '2курсница просто в том же проекте, но статья ведь не её!'}], 'title': ' ... '}]\n",
      "[0]\n",
      "[0]\n",
      "[0]\n",
      "[0]\n",
      "[0]\n",
      "[0]\n",
      "[23, {'date': 1459155756, 'out': 0, 'mid': 180981, 'body': 'это точно, спасибо!', 'uid': 42514938, 'read_state': 1, 'title': ''}]\n",
      "[1, {'date': 1409915180, 'out': 0, 'mid': 99471, 'body': 'Макс Фрай будет завтра в 17:30 на выставке (мкввя) книжку представлять.', 'uid': 44070286, 'read_state': 1, 'title': ''}]\n",
      "[0]\n",
      "[8, {'date': 1312875300, 'out': 0, 'mid': 16924, 'body': 'на менеджмент))))))', 'uid': 47157618, 'read_state': 1, 'title': '...'}]\n",
      "[9499, {'date': 1497799763, 'out': 1, 'mid': 256488, 'body': 'ща', 'uid': 47450198, 'read_state': 1, 'title': ' ... '}]\n",
      "[0]\n",
      "[5, {'date': 1490171689, 'out': 0, 'mid': 235231, 'body': 'Конечно можно Сашуль)', 'uid': 49436151, 'read_state': 1, 'title': ' ... '}]\n",
      "[0]\n",
      "[118, {'date': 1467286306, 'out': 1, 'mid': 193427, 'body': 'спасибо)', 'uid': 51053301, 'read_state': 1, 'title': ''}]\n",
      "[189, {'date': 1400515896, 'attachments': [{'type': 'video', 'video': {'duration': 194, 'date': 1400424478, 'vid': 168793711, 'image_small': 'https://pp.userapi.com/c6048/u31982459/video/s_d2d87b3d.jpg', 'views': 6, 'image': 'https://pp.userapi.com/c6048/u31982459/video/l_0e3e16e9.jpg', 'description': 'http://vk.com/thelonelyisland<br>http://twitter.com/lonelyislandru', 'image_xbig': 'https://pp.userapi.com/c6048/u31982459/video/y_e28f2ee3.jpg', 'image_big': 'https://pp.userapi.com/c6048/u31982459/video/l_0e3e16e9.jpg', 'owner_id': 11437854, 'can_edit': 1, 'access_key': 'eb615f964b92b9c24c', 'title': 'The Lonely Island - YOLO (feat. Adam Levine &amp; Kendrick Lamar)', 'platform': 'YouTube'}}], 'out': 1, 'mid': 94981, 'attachment': {'type': 'video', 'video': {'duration': 194, 'date': 1400424478, 'vid': 168793711, 'image_small': 'https://pp.userapi.com/c6048/u31982459/video/s_d2d87b3d.jpg', 'views': 6, 'image': 'https://pp.userapi.com/c6048/u31982459/video/l_0e3e16e9.jpg', 'description': 'http://vk.com/thelonelyisland<br>http://twitter.com/lonelyislandru', 'image_xbig': 'https://pp.userapi.com/c6048/u31982459/video/y_e28f2ee3.jpg', 'image_big': 'https://pp.userapi.com/c6048/u31982459/video/l_0e3e16e9.jpg', 'owner_id': 11437854, 'can_edit': 1, 'access_key': 'eb615f964b92b9c24c', 'title': 'The Lonely Island - YOLO (feat. Adam Levine &amp; Kendrick Lamar)', 'platform': 'YouTube'}}, 'body': 'ой, не то', 'uid': 51111098, 'read_state': 1, 'title': ''}]\n",
      "[0]\n",
      "[1, {'date': 1404550184, 'out': 0, 'mid': 97801, 'body': 'Привет, меня нужно добавить<br>это для общения между бадди<br>будем создавать второй чат, потому что группа неудобна', 'uid': 52042011, 'read_state': 1, 'title': 'Friend Request'}]\n",
      "[75, {'date': 1411367524, 'out': 0, 'mid': 100670, 'body': 'Отлично!', 'uid': 54802163, 'read_state': 1, 'title': ''}]\n",
      "[4818, {'date': 1497783970, 'out': 1, 'mid': 256427, 'body': 'Или поиграться с одинарными-двойными-тройными? Экранировать?', 'uid': 56706535, 'read_state': 1, 'title': ' ... '}]\n",
      "[30525, {'date': 1459331944, 'out': 1, 'mid': 181552, 'body': 'во-первых, \"я не лингвист\"<br>во-вторых, обиходное значение слова \"прагматичный\" же<br>которое что-то типа \"я рациональный\"', 'uid': 58424181, 'read_state': 1, 'title': ''}]\n",
      "[6843, {'date': 1497783181, 'attachments': [{'type': 'audio', 'audio': {'duration': 232, 'aid': 311810018, 'performer': 'Lorde', 'owner_id': 11437854, 'genre': 2, 'content_restricted': 1, 'lyrics_id': 201186432, 'title': 'Yellow Flicker Beat', 'artist': 'Lorde'}}], 'out': 1, 'mid': 256420, 'attachment': {'type': 'audio', 'audio': {'duration': 232, 'aid': 311810018, 'performer': 'Lorde', 'owner_id': 11437854, 'genre': 2, 'content_restricted': 1, 'lyrics_id': 201186432, 'title': 'Yellow Flicker Beat', 'artist': 'Lorde'}}, 'body': '', 'uid': 62411912, 'read_state': 1, 'title': ' ... '}]\n",
      "[3149, {'date': 1497391641, 'out': 0, 'mid': 255756, 'body': 'Ну ладно', 'uid': 63497387, 'read_state': 1, 'title': ' ... '}]\n",
      "[0]\n",
      "[7, {'date': 1473618144, 'out': 1, 'mid': 205082, 'body': 'Ага.', 'uid': 70561646, 'read_state': 1, 'title': ''}]\n",
      "[7, {'date': 1492014099, 'out': 0, 'mid': 240916, 'body': 'Кул!', 'uid': 71079139, 'read_state': 1, 'title': ' ... '}]\n",
      "[0]\n",
      "[0]\n",
      "[30, {'date': 1496659819, 'out': 1, 'mid': 253737, 'body': 'Хорошо)', 'uid': 75602894, 'read_state': 1, 'title': ' ... '}]\n",
      "[106, {'date': 1453248780, 'out': 1, 'mid': 170922, 'body': 'Не разбудила, спокойной)', 'uid': 84316513, 'read_state': 1, 'title': ''}]\n",
      "[0]\n",
      "[258, {'date': 1421139708, 'out': 0, 'mid': 118847, 'body': 'спасибо)', 'uid': 88518129, 'read_state': 1, 'title': ''}]\n",
      "[45, {'date': 1476971224, 'out': 1, 'mid': 211339, 'body': 'Мне на др кто-то пожелал, чтобы эта пиццерия никогда не закрывалась. Не сбылось. :(', 'uid': 96990790, 'read_state': 1, 'title': ''}]\n",
      "[10, {'date': 1474746730, 'out': 1, 'mid': 207287, 'body': 'спасибо', 'uid': 108441773, 'read_state': 1, 'title': ''}]\n",
      "[358, {'date': 1321605360, 'out': 1, 'mid': 19964, 'body': 'Телефоны', 'uid': 111872426, 'read_state': 1, 'title': ''}]\n",
      "[0]\n",
      "[0]\n",
      "[6, {'date': 1380049120, 'out': 1, 'mid': 71507, 'body': 'Cпасибо, и тебя с не-праздником)', 'uid': 114466121, 'read_state': 1, 'title': ''}]\n",
      "[0]\n",
      "[0]\n",
      "[76, {'date': 1482086564, 'emoji': 1, 'out': 0, 'mid': 218645, 'body': '👍', 'uid': 136454383, 'read_state': 1, 'title': ''}]\n",
      "[197, {'date': 1363622884, 'out': 0, 'mid': 50921, 'body': 'Ну, мне тоже(', 'uid': 136714872, 'read_state': 1, 'title': ''}]\n",
      "[0]\n",
      "[0]\n",
      "[0]\n",
      "[634, {'date': 1493063444, 'out': 1, 'mid': 244397, 'body': 'окей, послушаю, спасибо', 'uid': 142534854, 'read_state': 1, 'title': ' ... '}]\n",
      "[0]\n",
      "[517, {'date': 1497469608, 'out': 1, 'mid': 255902, 'body': 'супер', 'uid': 175186278, 'read_state': 1, 'title': ' ... '}]\n",
      "[6, {'date': 1426065860, 'out': 1, 'mid': 128690, 'body': 'user36307_33 koszrw7q', 'uid': 175880962, 'read_state': 1, 'title': ''}]\n",
      "[7, {'date': 1483515784, 'out': 0, 'mid': 221781, 'body': 'Спасибо!', 'uid': 178167043, 'read_state': 1, 'title': ''}]\n",
      "[3812, {'date': 1452968064, 'out': 0, 'mid': 170189, 'body': 'ладно, в общем, что-нибудь придумаю', 'uid': 181501721, 'read_state': 1, 'title': ''}]\n",
      "[0]\n",
      "[480, {'date': 1449847416, 'out': 0, 'mid': 161299, 'body': 'Привет! я несу тебе расписание участия в эксперименте, про который рассказывала на остановке. <br>Выбери удобный тебе зеленый слот и черкни мне.<br>https://docs.google.com/spreadsheets/d/12jjVFZ3ZB4AvX8j41k4d1fzRn5Zvh86tSS_E4M9CPU8/edit#gid=0<br><br>(если вдруг приведешь друга, буду любить тебя вечно! мне одного человека, не считая тебя, не хватает до финиша)', 'uid': 184575419, 'read_state': 1, 'title': ''}]\n",
      "[0]\n",
      "[154, {'date': 1484170432, 'out': 1, 'mid': 223017, 'body': 'я за тлеграм', 'uid': 193537640, 'read_state': 1, 'title': ''}]\n",
      "[13, {'date': 1403815104, 'out': 0, 'mid': 97456, 'body': 'ишь', 'uid': 195518047, 'read_state': 1, 'title': ''}]\n",
      "[36, {'date': 1451066592, 'out': 0, 'mid': 166928, 'body': 'спасибо!', 'uid': 196440313, 'read_state': 1, 'title': ''}]\n",
      "[42, {'date': 1477341276, 'out': 1, 'mid': 211662, 'body': 'наверное, отдельно', 'uid': 209099177, 'read_state': 1, 'title': ''}]\n",
      "[0]\n",
      "[0]\n",
      "[0]\n",
      "[0]\n",
      "[0]\n",
      "[24, {'date': 1490127291, 'out': 0, 'mid': 235139, 'body': 'давай !', 'uid': 260742248, 'read_state': 1, 'title': ' ... '}]\n",
      "[0]\n",
      "[0]\n",
      "[0]\n",
      "[0]\n",
      "[342, {'date': 1474838050, 'out': 1, 'mid': 207501, 'body': 'а что за кошмар?', 'uid': 316912604, 'read_state': 1, 'title': ''}]\n",
      "[6, {'date': 1468099408, 'out': 1, 'mid': 195222, 'body': 'Дарья, я ценю и Ваше, и своё время — поэтому перед тем, как встречаться, настаиваю на том, чтобы получить некоторую конкретику. Надеюсь, Вы, будучи деловым человеком, понимаете мои мотивы.<br>Мне пока не очень интересна бизнес-модель Вашего предприятия, равно как и мой предполагаемый доход — эти вопросы действительно было бы лучше обсудить при встрече. В первую очередь хотелось бы понять, в какой роли Вы видите меня в своём бизнесе и какой (примерно) круг обязанностей предлагаете.', 'uid': 333454874, 'read_state': 1, 'title': ''}]\n",
      "[0]\n",
      "[0]\n"
     ]
    }
   ],
   "source": [
    "for i in medmsg():\n",
    "    print(i)"
   ]
  },
  {
   "cell_type": "code",
   "execution_count": 173,
   "metadata": {
    "collapsed": true
   },
   "outputs": [],
   "source": [
    "all_history = medmsg()"
   ]
  },
  {
   "cell_type": "code",
   "execution_count": 174,
   "metadata": {},
   "outputs": [],
   "source": [
    "history = [i for i in all_history if i[0]>=100]"
   ]
  },
  {
   "cell_type": "code",
   "execution_count": 59,
   "metadata": {},
   "outputs": [
    {
     "data": {
      "text/plain": [
       "1352.5042735042734"
      ]
     },
     "execution_count": 59,
     "metadata": {},
     "output_type": "execute_result"
    }
   ],
   "source": [
    "np.mean(history)"
   ]
  },
  {
   "cell_type": "code",
   "execution_count": 77,
   "metadata": {
    "collapsed": true
   },
   "outputs": [],
   "source": [
    "lendialogs = sorted(x[0] for x in history)"
   ]
  },
  {
   "cell_type": "code",
   "execution_count": 177,
   "metadata": {},
   "outputs": [],
   "source": [
    "df = pd.DataFrame()"
   ]
  },
  {
   "cell_type": "code",
   "execution_count": 178,
   "metadata": {},
   "outputs": [],
   "source": [
    "df['id'] = [i[1]['uid'] for i in history]\n",
    "df['len'] = [i[0] for i in history]\n",
    "df['users'] = get_unames([i[1]['uid'] for i in history])"
   ]
  },
  {
   "cell_type": "code",
   "execution_count": 108,
   "metadata": {
    "collapsed": true
   },
   "outputs": [],
   "source": [
    "def username(user_id):\n",
    "    u = vk_api('users.get', user_id=str(user_id))[0]\n",
    "    return u['first_name']+' '+u['last_name']"
   ]
  },
  {
   "cell_type": "code",
   "execution_count": 106,
   "metadata": {
    "collapsed": true
   },
   "outputs": [],
   "source": [
    "def get_unames(ids):\n",
    "    arr = []\n",
    "    for i in ids:\n",
    "        arr.append(username(i))\n",
    "        time.sleep(0.3)\n",
    "    return arr"
   ]
  },
  {
   "cell_type": "code",
   "execution_count": 186,
   "metadata": {},
   "outputs": [
    {
     "data": {
      "text/plain": [
       "(array([ 0,  1,  2,  3,  4,  5,  6,  7,  8,  9, 10, 11, 12, 13, 14, 15, 16,\n",
       "        17, 18, 19, 20, 21, 22, 23, 24, 25, 26, 27, 28, 29, 30, 31, 32, 33,\n",
       "        34, 35, 36, 37, 38, 39, 40, 41, 42, 43, 44, 45, 46, 47, 48, 49, 50,\n",
       "        51, 52, 53, 54, 55, 56, 57, 58, 59, 60, 61, 62, 63, 64]),\n",
       " <a list of 65 Text xticklabel objects>)"
      ]
     },
     "execution_count": 186,
     "metadata": {},
     "output_type": "execute_result"
    },
    {
     "data": {
      "image/png": "[encoded data removed]",
      "text/plain": [
       "<matplotlib.figure.Figure at 0x7f003054a7f0>"
      ]
     },
     "metadata": {},
     "output_type": "display_data"
    }
   ],
   "source": [
    "sns.set_style('ticks')\n",
    "fig, ax = plt.subplots()\n",
    "fig.set_size_inches(17,10)\n",
    "sns.barplot(x='users', y='len', data=df.sort_values('users'))\n",
    "plt.xticks(rotation=90)"
   ]
  },
  {
   "cell_type": "code",
   "execution_count": 187,
   "metadata": {},
   "outputs": [
    {
     "data": {
      "text/html": [
       "<div>\n",
       "<table border=\"1\" class=\"dataframe\">\n",
       "  <thead>\n",
       "    <tr style=\"text-align: right;\">\n",
       "      <th></th>\n",
       "      <th>users</th>\n",
       "      <th>len</th>\n",
       "    </tr>\n",
       "  </thead>\n",
       "  <tbody>\n",
       "    <tr>\n",
       "      <th>3</th>\n",
       "      <td>Александр Фенин</td>\n",
       "      <td>9502</td>\n",
       "    </tr>\n",
       "    <tr>\n",
       "      <th>5</th>\n",
       "      <td>Мария Шеянова</td>\n",
       "      <td>6601</td>\n",
       "    </tr>\n",
       "    <tr>\n",
       "      <th>10</th>\n",
       "      <td>Катя Колоскова</td>\n",
       "      <td>13785</td>\n",
       "    </tr>\n",
       "    <tr>\n",
       "      <th>16</th>\n",
       "      <td>Никита Змановский</td>\n",
       "      <td>12136</td>\n",
       "    </tr>\n",
       "    <tr>\n",
       "      <th>18</th>\n",
       "      <td>Василевс Андр</td>\n",
       "      <td>5899</td>\n",
       "    </tr>\n",
       "    <tr>\n",
       "      <th>30</th>\n",
       "      <td>Тома Летова</td>\n",
       "      <td>30525</td>\n",
       "    </tr>\n",
       "    <tr>\n",
       "      <th>37</th>\n",
       "      <td>Елена Асиновская</td>\n",
       "      <td>6843</td>\n",
       "    </tr>\n",
       "    <tr>\n",
       "      <th>42</th>\n",
       "      <td>Ксения Шабад-Дмитриева</td>\n",
       "      <td>14206</td>\n",
       "    </tr>\n",
       "    <tr>\n",
       "      <th>57</th>\n",
       "      <td>Татьяна Шалганова</td>\n",
       "      <td>10472</td>\n",
       "    </tr>\n",
       "    <tr>\n",
       "      <th>59</th>\n",
       "      <td>Александра Мартынова</td>\n",
       "      <td>9150</td>\n",
       "    </tr>\n",
       "  </tbody>\n",
       "</table>\n",
       "</div>"
      ],
      "text/plain": [
       "                     users    len\n",
       "3          Александр Фенин   9502\n",
       "5            Мария Шеянова   6601\n",
       "10          Катя Колоскова  13785\n",
       "16       Никита Змановский  12136\n",
       "18           Василевс Андр   5899\n",
       "30             Тома Летова  30525\n",
       "37        Елена Асиновская   6843\n",
       "42  Ксения Шабад-Дмитриева  14206\n",
       "57       Татьяна Шалганова  10472\n",
       "59    Александра Мартынова   9150"
      ]
     },
     "execution_count": 187,
     "metadata": {},
     "output_type": "execute_result"
    }
   ],
   "source": [
    "df[['users', 'len']][df['len']>5000]"
   ]
  },
  {
   "cell_type": "code",
   "execution_count": 176,
   "metadata": {},
   "outputs": [
    {
     "data": {
      "text/plain": [
       "[254,\n",
       " {'body': 'я посмотрела на эту колонку и поняла, что хз',\n",
       "  'date': 1495391797,\n",
       "  'mid': 249378,\n",
       "  'out': 1,\n",
       "  'read_state': 1,\n",
       "  'title': ' ... ',\n",
       "  'uid': 309319}]"
      ]
     },
     "execution_count": 176,
     "metadata": {},
     "output_type": "execute_result"
    }
   ],
   "source": [
    "history[1]"
   ]
  },
  {
   "cell_type": "code",
   "execution_count": 184,
   "metadata": {
    "collapsed": true
   },
   "outputs": [],
   "source": [
    "fig.savefig('all_dialogs_sf.png')"
   ]
  },
  {
   "cell_type": "code",
   "execution_count": 154,
   "metadata": {
    "collapsed": true
   },
   "outputs": [],
   "source": [
    "all_dialogs = vk_api('messages.getDialogs', count=200)"
   ]
  },
  {
   "cell_type": "code",
   "execution_count": 159,
   "metadata": {
    "collapsed": true
   },
   "outputs": [],
   "source": [
    "all_dialogs2 = vk_api('messages.getDialogs', count=200, offset=200)"
   ]
  },
  {
   "cell_type": "code",
   "execution_count": 160,
   "metadata": {
    "collapsed": true
   },
   "outputs": [],
   "source": [
    "all_dialogs3 = vk_api('messages.getDialogs', count=200, offset=400)"
   ]
  },
  {
   "cell_type": "code",
   "execution_count": 163,
   "metadata": {},
   "outputs": [],
   "source": [
    "people = [i['uid'] for i in all_dialogs[1:] if 'admin_id' not in i and int(i['uid'])>1000]"
   ]
  },
  {
   "cell_type": "code",
   "execution_count": 166,
   "metadata": {},
   "outputs": [],
   "source": [
    "people3 = [i['uid'] for i in all_dialogs3[1:] if 'admin_id' not in i and int(i['uid'])>1000]"
   ]
  },
  {
   "cell_type": "code",
   "execution_count": 167,
   "metadata": {},
   "outputs": [
    {
     "data": {
      "text/plain": [
       "[112283324,\n",
       " 34132732,\n",
       " 62660944,\n",
       " 19753715,\n",
       " 7552678,\n",
       " 21472860,\n",
       " 12835795,\n",
       " 20918869,\n",
       " 4387292,\n",
       " 86213992,\n",
       " 40123024,\n",
       " 9727748,\n",
       " 7623098,\n",
       " 18368927,\n",
       " 51651545,\n",
       " 2806839,\n",
       " 41722074,\n",
       " 6031446,\n",
       " 9286468,\n",
       " 32137544,\n",
       " 6808067,\n",
       " 20932261,\n",
       " 19645069,\n",
       " 9458354,\n",
       " 4717072,\n",
       " 32883241,\n",
       " 26485489,\n",
       " 6096346,\n",
       " 7481637,\n",
       " 6747442,\n",
       " 3859254,\n",
       " 21039806,\n",
       " 12195800,\n",
       " 10141644,\n",
       " 20005217,\n",
       " 14918399,\n",
       " 19575699,\n",
       " 8068813,\n",
       " 33678817,\n",
       " 49804730,\n",
       " 43832924,\n",
       " 28801437,\n",
       " 5859256,\n",
       " 3606265,\n",
       " 13933270,\n",
       " 27222642,\n",
       " 4745934,\n",
       " 18491465,\n",
       " 41368310,\n",
       " 225716,\n",
       " 3534258,\n",
       " 3877486,\n",
       " 13845374,\n",
       " 11490107,\n",
       " 16102152,\n",
       " 3927210,\n",
       " 4139278,\n",
       " 9671387,\n",
       " 5667261,\n",
       " 69717,\n",
       " 8134016,\n",
       " 34416113,\n",
       " 5031009,\n",
       " 22330648,\n",
       " 7620417,\n",
       " 15070235,\n",
       " 18015183,\n",
       " 4871514,\n",
       " 8547370,\n",
       " 6373944,\n",
       " 9248120,\n",
       " 8297004,\n",
       " 12340184,\n",
       " 4476347,\n",
       " 6400135,\n",
       " 5241301,\n",
       " 18269335,\n",
       " 18262522,\n",
       " 10768994,\n",
       " 3649059,\n",
       " 18326616,\n",
       " 5436972,\n",
       " 7606752,\n",
       " 6281467,\n",
       " 5084026,\n",
       " 3771937]"
      ]
     },
     "execution_count": 167,
     "metadata": {},
     "output_type": "execute_result"
    }
   ],
   "source": [
    "people3"
   ]
  },
  {
   "cell_type": "code",
   "execution_count": 168,
   "metadata": {
    "collapsed": true
   },
   "outputs": [],
   "source": [
    "people = people+people2+people3"
   ]
  },
  {
   "cell_type": "code",
   "execution_count": 171,
   "metadata": {},
   "outputs": [
    {
     "data": {
      "text/plain": [
       "407"
      ]
     },
     "execution_count": 171,
     "metadata": {},
     "output_type": "execute_result"
    }
   ],
   "source": [
    "len(people)"
   ]
  },
  {
   "cell_type": "code",
   "execution_count": 170,
   "metadata": {
    "collapsed": true
   },
   "outputs": [],
   "source": [
    "people=list(set(people))"
   ]
  },
  {
   "cell_type": "code",
   "execution_count": null,
   "metadata": {
    "collapsed": true
   },
   "outputs": [],
   "source": []
  }
 ],
 "metadata": {
  "kernelspec": {
   "display_name": "Python 3",
   "language": "python",
   "name": "python3"
  },
  "language_info": {
   "codemirror_mode": {
    "name": "ipython",
    "version": 3
   },
   "file_extension": ".py",
   "mimetype": "text/x-python",
   "name": "python",
   "nbconvert_exporter": "python",
   "pygments_lexer": "ipython3",
   "version": "3.5.2"
  }
 },
 "nbformat": 4,
 "nbformat_minor": 2
}
